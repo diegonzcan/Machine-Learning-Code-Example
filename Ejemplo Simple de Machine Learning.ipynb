{
 "cells": [
  {
   "cell_type": "markdown",
   "id": "e267bb5a",
   "metadata": {},
   "source": [
    "# Regresion Simple con SciKit"
   ]
  },
  {
   "cell_type": "markdown",
   "id": "550b9e02",
   "metadata": {},
   "source": [
    "Analizaremos la relacion entre el precio y el kilometraje de cualquier carro"
   ]
  },
  {
   "cell_type": "code",
   "execution_count": 189,
   "id": "a5a4ce0f",
   "metadata": {},
   "outputs": [],
   "source": [
    "import pandas as pd"
   ]
  },
  {
   "cell_type": "code",
   "execution_count": 190,
   "id": "da02b679",
   "metadata": {},
   "outputs": [],
   "source": [
    "df = pd.read_csv('car_data.csv')"
   ]
  },
  {
   "cell_type": "code",
   "execution_count": 191,
   "id": "350d92f8",
   "metadata": {},
   "outputs": [
    {
     "data": {
      "text/html": [
       "<div>\n",
       "<style scoped>\n",
       "    .dataframe tbody tr th:only-of-type {\n",
       "        vertical-align: middle;\n",
       "    }\n",
       "\n",
       "    .dataframe tbody tr th {\n",
       "        vertical-align: top;\n",
       "    }\n",
       "\n",
       "    .dataframe thead th {\n",
       "        text-align: right;\n",
       "    }\n",
       "</style>\n",
       "<table border=\"1\" class=\"dataframe\">\n",
       "  <thead>\n",
       "    <tr style=\"text-align: right;\">\n",
       "      <th></th>\n",
       "      <th>Car_Name</th>\n",
       "      <th>Year</th>\n",
       "      <th>Selling_Price</th>\n",
       "      <th>Present_Price</th>\n",
       "      <th>Kms_Driven</th>\n",
       "      <th>Fuel_Type</th>\n",
       "      <th>Seller_Type</th>\n",
       "      <th>Transmission</th>\n",
       "      <th>Owner</th>\n",
       "    </tr>\n",
       "  </thead>\n",
       "  <tbody>\n",
       "    <tr>\n",
       "      <th>0</th>\n",
       "      <td>ritz</td>\n",
       "      <td>2014</td>\n",
       "      <td>3.35</td>\n",
       "      <td>5.59</td>\n",
       "      <td>27000</td>\n",
       "      <td>Petrol</td>\n",
       "      <td>Dealer</td>\n",
       "      <td>Manual</td>\n",
       "      <td>0</td>\n",
       "    </tr>\n",
       "    <tr>\n",
       "      <th>1</th>\n",
       "      <td>sx4</td>\n",
       "      <td>2013</td>\n",
       "      <td>4.75</td>\n",
       "      <td>9.54</td>\n",
       "      <td>43000</td>\n",
       "      <td>Diesel</td>\n",
       "      <td>Dealer</td>\n",
       "      <td>Manual</td>\n",
       "      <td>0</td>\n",
       "    </tr>\n",
       "    <tr>\n",
       "      <th>2</th>\n",
       "      <td>ciaz</td>\n",
       "      <td>2017</td>\n",
       "      <td>7.25</td>\n",
       "      <td>9.85</td>\n",
       "      <td>6900</td>\n",
       "      <td>Petrol</td>\n",
       "      <td>Dealer</td>\n",
       "      <td>Manual</td>\n",
       "      <td>0</td>\n",
       "    </tr>\n",
       "    <tr>\n",
       "      <th>3</th>\n",
       "      <td>wagon r</td>\n",
       "      <td>2011</td>\n",
       "      <td>2.85</td>\n",
       "      <td>4.15</td>\n",
       "      <td>5200</td>\n",
       "      <td>Petrol</td>\n",
       "      <td>Dealer</td>\n",
       "      <td>Manual</td>\n",
       "      <td>0</td>\n",
       "    </tr>\n",
       "    <tr>\n",
       "      <th>4</th>\n",
       "      <td>swift</td>\n",
       "      <td>2014</td>\n",
       "      <td>4.60</td>\n",
       "      <td>6.87</td>\n",
       "      <td>42450</td>\n",
       "      <td>Diesel</td>\n",
       "      <td>Dealer</td>\n",
       "      <td>Manual</td>\n",
       "      <td>0</td>\n",
       "    </tr>\n",
       "  </tbody>\n",
       "</table>\n",
       "</div>"
      ],
      "text/plain": [
       "  Car_Name  Year  Selling_Price  Present_Price  Kms_Driven Fuel_Type  \\\n",
       "0     ritz  2014           3.35           5.59       27000    Petrol   \n",
       "1      sx4  2013           4.75           9.54       43000    Diesel   \n",
       "2     ciaz  2017           7.25           9.85        6900    Petrol   \n",
       "3  wagon r  2011           2.85           4.15        5200    Petrol   \n",
       "4    swift  2014           4.60           6.87       42450    Diesel   \n",
       "\n",
       "  Seller_Type Transmission  Owner  \n",
       "0      Dealer       Manual      0  \n",
       "1      Dealer       Manual      0  \n",
       "2      Dealer       Manual      0  \n",
       "3      Dealer       Manual      0  \n",
       "4      Dealer       Manual      0  "
      ]
     },
     "execution_count": 191,
     "metadata": {},
     "output_type": "execute_result"
    }
   ],
   "source": [
    "df.head()"
   ]
  },
  {
   "cell_type": "code",
   "execution_count": 192,
   "id": "b8b4c187",
   "metadata": {},
   "outputs": [],
   "source": [
    "car_data = df[[\"Kms_Driven\",\"Selling_Price\"]]"
   ]
  },
  {
   "cell_type": "code",
   "execution_count": 193,
   "id": "3480296d",
   "metadata": {},
   "outputs": [
    {
     "data": {
      "text/html": [
       "<div>\n",
       "<style scoped>\n",
       "    .dataframe tbody tr th:only-of-type {\n",
       "        vertical-align: middle;\n",
       "    }\n",
       "\n",
       "    .dataframe tbody tr th {\n",
       "        vertical-align: top;\n",
       "    }\n",
       "\n",
       "    .dataframe thead th {\n",
       "        text-align: right;\n",
       "    }\n",
       "</style>\n",
       "<table border=\"1\" class=\"dataframe\">\n",
       "  <thead>\n",
       "    <tr style=\"text-align: right;\">\n",
       "      <th></th>\n",
       "      <th>km</th>\n",
       "      <th>precio</th>\n",
       "    </tr>\n",
       "  </thead>\n",
       "  <tbody>\n",
       "    <tr>\n",
       "      <th>0</th>\n",
       "      <td>27000</td>\n",
       "      <td>3.35</td>\n",
       "    </tr>\n",
       "    <tr>\n",
       "      <th>1</th>\n",
       "      <td>43000</td>\n",
       "      <td>4.75</td>\n",
       "    </tr>\n",
       "    <tr>\n",
       "      <th>2</th>\n",
       "      <td>6900</td>\n",
       "      <td>7.25</td>\n",
       "    </tr>\n",
       "    <tr>\n",
       "      <th>3</th>\n",
       "      <td>5200</td>\n",
       "      <td>2.85</td>\n",
       "    </tr>\n",
       "    <tr>\n",
       "      <th>4</th>\n",
       "      <td>42450</td>\n",
       "      <td>4.60</td>\n",
       "    </tr>\n",
       "    <tr>\n",
       "      <th>5</th>\n",
       "      <td>2071</td>\n",
       "      <td>9.25</td>\n",
       "    </tr>\n",
       "    <tr>\n",
       "      <th>6</th>\n",
       "      <td>18796</td>\n",
       "      <td>6.75</td>\n",
       "    </tr>\n",
       "    <tr>\n",
       "      <th>7</th>\n",
       "      <td>33429</td>\n",
       "      <td>6.50</td>\n",
       "    </tr>\n",
       "    <tr>\n",
       "      <th>8</th>\n",
       "      <td>20273</td>\n",
       "      <td>8.75</td>\n",
       "    </tr>\n",
       "    <tr>\n",
       "      <th>9</th>\n",
       "      <td>42367</td>\n",
       "      <td>7.45</td>\n",
       "    </tr>\n",
       "    <tr>\n",
       "      <th>10</th>\n",
       "      <td>2135</td>\n",
       "      <td>2.85</td>\n",
       "    </tr>\n",
       "    <tr>\n",
       "      <th>11</th>\n",
       "      <td>51000</td>\n",
       "      <td>6.85</td>\n",
       "    </tr>\n",
       "    <tr>\n",
       "      <th>12</th>\n",
       "      <td>15000</td>\n",
       "      <td>7.50</td>\n",
       "    </tr>\n",
       "    <tr>\n",
       "      <th>13</th>\n",
       "      <td>26000</td>\n",
       "      <td>6.10</td>\n",
       "    </tr>\n",
       "    <tr>\n",
       "      <th>14</th>\n",
       "      <td>77427</td>\n",
       "      <td>2.25</td>\n",
       "    </tr>\n",
       "    <tr>\n",
       "      <th>15</th>\n",
       "      <td>43000</td>\n",
       "      <td>7.75</td>\n",
       "    </tr>\n",
       "    <tr>\n",
       "      <th>16</th>\n",
       "      <td>41678</td>\n",
       "      <td>7.25</td>\n",
       "    </tr>\n",
       "    <tr>\n",
       "      <th>17</th>\n",
       "      <td>43000</td>\n",
       "      <td>7.75</td>\n",
       "    </tr>\n",
       "    <tr>\n",
       "      <th>18</th>\n",
       "      <td>35500</td>\n",
       "      <td>3.25</td>\n",
       "    </tr>\n",
       "    <tr>\n",
       "      <th>19</th>\n",
       "      <td>41442</td>\n",
       "      <td>2.65</td>\n",
       "    </tr>\n",
       "  </tbody>\n",
       "</table>\n",
       "</div>"
      ],
      "text/plain": [
       "       km  precio\n",
       "0   27000    3.35\n",
       "1   43000    4.75\n",
       "2    6900    7.25\n",
       "3    5200    2.85\n",
       "4   42450    4.60\n",
       "5    2071    9.25\n",
       "6   18796    6.75\n",
       "7   33429    6.50\n",
       "8   20273    8.75\n",
       "9   42367    7.45\n",
       "10   2135    2.85\n",
       "11  51000    6.85\n",
       "12  15000    7.50\n",
       "13  26000    6.10\n",
       "14  77427    2.25\n",
       "15  43000    7.75\n",
       "16  41678    7.25\n",
       "17  43000    7.75\n",
       "18  35500    3.25\n",
       "19  41442    2.65"
      ]
     },
     "execution_count": 193,
     "metadata": {},
     "output_type": "execute_result"
    }
   ],
   "source": [
    "car_data.columns = [\"km\", \"precio\"]\n",
    "car_data.head(20)"
   ]
  },
  {
   "cell_type": "code",
   "execution_count": 194,
   "id": "936b6463",
   "metadata": {},
   "outputs": [],
   "source": [
    " from sklearn.model_selection import train_test_split"
   ]
  },
  {
   "cell_type": "code",
   "execution_count": 195,
   "id": "df482ebc",
   "metadata": {},
   "outputs": [],
   "source": [
    "X_train, X_test, y_train, y_test = train_test_split(car_data.km.values.reshape(-1,1), car_data.precio.values, random_state=94)"
   ]
  },
  {
   "cell_type": "code",
   "execution_count": 196,
   "id": "2fa0c688",
   "metadata": {},
   "outputs": [
    {
     "data": {
      "text/plain": [
       "(76, 1)"
      ]
     },
     "execution_count": 196,
     "metadata": {},
     "output_type": "execute_result"
    }
   ],
   "source": [
    "X_test.shape ### Testing Data"
   ]
  },
  {
   "cell_type": "code",
   "execution_count": 197,
   "id": "3ce1b49a",
   "metadata": {},
   "outputs": [
    {
     "data": {
      "text/plain": [
       "(225, 1)"
      ]
     },
     "execution_count": 197,
     "metadata": {},
     "output_type": "execute_result"
    }
   ],
   "source": [
    "X_train.shape ### Training data"
   ]
  },
  {
   "cell_type": "code",
   "execution_count": 198,
   "id": "11d522b7",
   "metadata": {},
   "outputs": [],
   "source": [
    "from sklearn.linear_model import LinearRegression"
   ]
  },
  {
   "cell_type": "code",
   "execution_count": 199,
   "id": "e2e3ddaa",
   "metadata": {},
   "outputs": [],
   "source": [
    "linreg = LinearRegression() "
   ]
  },
  {
   "cell_type": "code",
   "execution_count": 200,
   "id": "823aa6f8",
   "metadata": {},
   "outputs": [
    {
     "data": {
      "text/plain": [
       "LinearRegression()"
      ]
     },
     "execution_count": 200,
     "metadata": {},
     "output_type": "execute_result"
    }
   ],
   "source": [
    "linreg.fit(X=X_train,y=y_train)"
   ]
  },
  {
   "cell_type": "code",
   "execution_count": 201,
   "id": "62a7686f",
   "metadata": {},
   "outputs": [
    {
     "data": {
      "text/plain": [
       "array([1.46070432e-05])"
      ]
     },
     "execution_count": 201,
     "metadata": {},
     "output_type": "execute_result"
    }
   ],
   "source": [
    "linreg.coef_"
   ]
  },
  {
   "cell_type": "code",
   "execution_count": 14,
   "id": "0cc75085",
   "metadata": {},
   "outputs": [
    {
     "data": {
      "text/plain": [
       "3.821704239622739"
      ]
     },
     "execution_count": 14,
     "metadata": {},
     "output_type": "execute_result"
    }
   ],
   "source": [
    "linreg.intercept_"
   ]
  },
  {
   "cell_type": "code",
   "execution_count": 15,
   "id": "82dff372",
   "metadata": {},
   "outputs": [],
   "source": [
    "prediccion = linreg.predict(X_test)"
   ]
  },
  {
   "cell_type": "code",
   "execution_count": 16,
   "id": "16bfa12d",
   "metadata": {},
   "outputs": [],
   "source": [
    "esperado = y_test"
   ]
  },
  {
   "cell_type": "code",
   "execution_count": 17,
   "id": "81bf37d6",
   "metadata": {},
   "outputs": [
    {
     "name": "stdout",
     "output_type": "stream",
     "text": [
      "Prediccion: 4.06, Esperado:6.00\n",
      "Prediccion: 3.99, Esperado:3.10\n",
      "Prediccion: 4.53, Esperado:4.65\n",
      "Prediccion: 4.39, Esperado:0.38\n",
      "Prediccion: 4.41, Esperado:4.00\n",
      "Prediccion: 3.91, Esperado:1.05\n",
      "Prediccion: 4.41, Esperado:6.25\n",
      "Prediccion: 4.25, Esperado:9.15\n"
     ]
    }
   ],
   "source": [
    "for p,e in zip(prediccion[::10],esperado[::10]): ### probamos el modelo\n",
    "    print(f'Prediccion: {p:.2f}, Esperado:{e:.2f}')"
   ]
  },
  {
   "cell_type": "code",
   "execution_count": 204,
   "id": "e024a71e",
   "metadata": {},
   "outputs": [],
   "source": [
    "lin_fun = (lambda x:linreg.coef_*x+linreg.intercept_)"
   ]
  },
  {
   "cell_type": "code",
   "execution_count": 210,
   "id": "1ea8fc09",
   "metadata": {},
   "outputs": [
    {
     "name": "stdout",
     "output_type": "stream",
     "text": [
      "El precio predecido para 0 kilometros es de [3.82170424]\n",
      "El precio predecido para 1000 kilometros es de [3.83631128]\n",
      "El precio predecido para 2000 kilometros es de [3.85091833]\n",
      "El precio predecido para 3000 kilometros es de [3.86552537]\n",
      "El precio predecido para 4000 kilometros es de [3.88013241]\n",
      "El precio predecido para 5000 kilometros es de [3.89473946]\n",
      "El precio predecido para 6000 kilometros es de [3.9093465]\n",
      "El precio predecido para 7000 kilometros es de [3.92395354]\n",
      "El precio predecido para 8000 kilometros es de [3.93856059]\n",
      "El precio predecido para 9000 kilometros es de [3.95316763]\n"
     ]
    }
   ],
   "source": [
    "for x in list(range(0,10000,1000)):\n",
    "    print(f'El precio predecido para {x} kilometros es de {lin_fun(x)}')\n",
    "##  relacion positiva lo que indica que tenemos carros con mucho km y precios altos en el dataset"
   ]
  },
  {
   "cell_type": "markdown",
   "id": "c6484343",
   "metadata": {},
   "source": [
    "Visualizando la relación"
   ]
  },
  {
   "cell_type": "code",
   "execution_count": 20,
   "id": "8815feb3",
   "metadata": {},
   "outputs": [
    {
     "data": {
      "image/png": "[encoded data removed]",
      "text/plain": [
       "<Figure size 432x288 with 1 Axes>"
      ]
     },
     "metadata": {
      "needs_background": "light"
     },
     "output_type": "display_data"
    }
   ],
   "source": [
    "import seaborn as sns\n",
    "\n",
    "axes = sns.scatterplot(data=df, x=\"Kms_Driven\", y=\"Selling_Price\", hue=\"Selling_Price\", palette=\"hls\", legend=False)\n",
    "import numpy as np\n",
    "\n",
    "x = np.array([min(df.Kms_Driven.values), max(df.Kms_Driven.values)])\n",
    "y = lin_fun(x)\n",
    "\n",
    "import matplotlib.pyplot as plt\n",
    "\n",
    "line = plt.plot(x,y)"
   ]
  },
  {
   "cell_type": "markdown",
   "id": "8cae98ee",
   "metadata": {},
   "source": [
    "# Regresion Lineal Multiple con SciKit"
   ]
  },
  {
   "cell_type": "markdown",
   "id": "0716df0d",
   "metadata": {},
   "source": [
    "Vamos a crear un modelo de prediccion para probar si se puede predecir el valor de un carro con año, kilometraje, y si es titulo limpio o no. Sin considerar el modelo. "
   ]
  },
  {
   "cell_type": "code",
   "execution_count": null,
   "id": "5f45fe59",
   "metadata": {},
   "outputs": [],
   "source": [
    "## Cargando y limpiando los datos"
   ]
  },
  {
   "cell_type": "code",
   "execution_count": 72,
   "id": "57dcf31f",
   "metadata": {},
   "outputs": [],
   "source": [
    "car_data = pd.read_csv('car_data.csv')"
   ]
  },
  {
   "cell_type": "code",
   "execution_count": 73,
   "id": "b653470e",
   "metadata": {},
   "outputs": [
    {
     "data": {
      "text/plain": [
       "Unnamed: 0        int64\n",
       "price             int64\n",
       "brand            object\n",
       "model            object\n",
       "year              int64\n",
       "title_status     object\n",
       "mileage         float64\n",
       "color            object\n",
       "vin              object\n",
       "lot               int64\n",
       "state            object\n",
       "country          object\n",
       "condition        object\n",
       "dtype: object"
      ]
     },
     "execution_count": 73,
     "metadata": {},
     "output_type": "execute_result"
    }
   ],
   "source": [
    "car_data.dtypes"
   ]
  },
  {
   "cell_type": "code",
   "execution_count": 74,
   "id": "1d7ee561",
   "metadata": {},
   "outputs": [],
   "source": [
    "car_data.drop(columns={'Unnamed: 0','condition', 'vin', 'lot'}, inplace=True)"
   ]
  },
  {
   "cell_type": "code",
   "execution_count": 75,
   "id": "b93a1164",
   "metadata": {},
   "outputs": [
    {
     "data": {
      "text/html": [
       "<div>\n",
       "<style scoped>\n",
       "    .dataframe tbody tr th:only-of-type {\n",
       "        vertical-align: middle;\n",
       "    }\n",
       "\n",
       "    .dataframe tbody tr th {\n",
       "        vertical-align: top;\n",
       "    }\n",
       "\n",
       "    .dataframe thead th {\n",
       "        text-align: right;\n",
       "    }\n",
       "</style>\n",
       "<table border=\"1\" class=\"dataframe\">\n",
       "  <thead>\n",
       "    <tr style=\"text-align: right;\">\n",
       "      <th></th>\n",
       "      <th>brand</th>\n",
       "      <th>model</th>\n",
       "      <th>title_status</th>\n",
       "      <th>color</th>\n",
       "      <th>state</th>\n",
       "      <th>country</th>\n",
       "    </tr>\n",
       "  </thead>\n",
       "  <tbody>\n",
       "    <tr>\n",
       "      <th>0</th>\n",
       "      <td>toyota</td>\n",
       "      <td>cruiser</td>\n",
       "      <td>clean vehicle</td>\n",
       "      <td>black</td>\n",
       "      <td>new jersey</td>\n",
       "      <td>usa</td>\n",
       "    </tr>\n",
       "    <tr>\n",
       "      <th>1</th>\n",
       "      <td>ford</td>\n",
       "      <td>se</td>\n",
       "      <td>clean vehicle</td>\n",
       "      <td>silver</td>\n",
       "      <td>tennessee</td>\n",
       "      <td>usa</td>\n",
       "    </tr>\n",
       "    <tr>\n",
       "      <th>2</th>\n",
       "      <td>dodge</td>\n",
       "      <td>mpv</td>\n",
       "      <td>clean vehicle</td>\n",
       "      <td>silver</td>\n",
       "      <td>georgia</td>\n",
       "      <td>usa</td>\n",
       "    </tr>\n",
       "    <tr>\n",
       "      <th>3</th>\n",
       "      <td>ford</td>\n",
       "      <td>door</td>\n",
       "      <td>clean vehicle</td>\n",
       "      <td>blue</td>\n",
       "      <td>virginia</td>\n",
       "      <td>usa</td>\n",
       "    </tr>\n",
       "    <tr>\n",
       "      <th>4</th>\n",
       "      <td>chevrolet</td>\n",
       "      <td>1500</td>\n",
       "      <td>clean vehicle</td>\n",
       "      <td>red</td>\n",
       "      <td>florida</td>\n",
       "      <td>usa</td>\n",
       "    </tr>\n",
       "    <tr>\n",
       "      <th>...</th>\n",
       "      <td>...</td>\n",
       "      <td>...</td>\n",
       "      <td>...</td>\n",
       "      <td>...</td>\n",
       "      <td>...</td>\n",
       "      <td>...</td>\n",
       "    </tr>\n",
       "    <tr>\n",
       "      <th>2494</th>\n",
       "      <td>nissan</td>\n",
       "      <td>versa</td>\n",
       "      <td>clean vehicle</td>\n",
       "      <td>red</td>\n",
       "      <td>california</td>\n",
       "      <td>usa</td>\n",
       "    </tr>\n",
       "    <tr>\n",
       "      <th>2495</th>\n",
       "      <td>nissan</td>\n",
       "      <td>versa</td>\n",
       "      <td>clean vehicle</td>\n",
       "      <td>silver</td>\n",
       "      <td>florida</td>\n",
       "      <td>usa</td>\n",
       "    </tr>\n",
       "    <tr>\n",
       "      <th>2496</th>\n",
       "      <td>nissan</td>\n",
       "      <td>versa</td>\n",
       "      <td>clean vehicle</td>\n",
       "      <td>silver</td>\n",
       "      <td>florida</td>\n",
       "      <td>usa</td>\n",
       "    </tr>\n",
       "    <tr>\n",
       "      <th>2497</th>\n",
       "      <td>nissan</td>\n",
       "      <td>versa</td>\n",
       "      <td>clean vehicle</td>\n",
       "      <td>black</td>\n",
       "      <td>florida</td>\n",
       "      <td>usa</td>\n",
       "    </tr>\n",
       "    <tr>\n",
       "      <th>2498</th>\n",
       "      <td>nissan</td>\n",
       "      <td>versa</td>\n",
       "      <td>clean vehicle</td>\n",
       "      <td>silver</td>\n",
       "      <td>florida</td>\n",
       "      <td>usa</td>\n",
       "    </tr>\n",
       "  </tbody>\n",
       "</table>\n",
       "<p>2499 rows × 6 columns</p>\n",
       "</div>"
      ],
      "text/plain": [
       "          brand    model   title_status   color       state country\n",
       "0        toyota  cruiser  clean vehicle   black  new jersey     usa\n",
       "1          ford       se  clean vehicle  silver   tennessee     usa\n",
       "2         dodge      mpv  clean vehicle  silver     georgia     usa\n",
       "3          ford     door  clean vehicle    blue    virginia     usa\n",
       "4     chevrolet     1500  clean vehicle     red     florida     usa\n",
       "...         ...      ...            ...     ...         ...     ...\n",
       "2494     nissan    versa  clean vehicle     red  california     usa\n",
       "2495     nissan    versa  clean vehicle  silver     florida     usa\n",
       "2496     nissan    versa  clean vehicle  silver     florida     usa\n",
       "2497     nissan    versa  clean vehicle   black     florida     usa\n",
       "2498     nissan    versa  clean vehicle  silver     florida     usa\n",
       "\n",
       "[2499 rows x 6 columns]"
      ]
     },
     "execution_count": 75,
     "metadata": {},
     "output_type": "execute_result"
    }
   ],
   "source": [
    "categorica = ['brand', 'model', 'title_status', 'color', 'state', 'country']\n",
    "car_data[categorica]"
   ]
  },
  {
   "cell_type": "code",
   "execution_count": 76,
   "id": "f45590a0",
   "metadata": {},
   "outputs": [],
   "source": [
    "car_clean = car_data.copy()"
   ]
  },
  {
   "cell_type": "code",
   "execution_count": null,
   "id": "c1874f03",
   "metadata": {},
   "outputs": [],
   "source": [
    "### encoding para la variable categorica"
   ]
  },
  {
   "cell_type": "code",
   "execution_count": 86,
   "id": "81869446",
   "metadata": {},
   "outputs": [],
   "source": [
    "car_encoded = pd.get_dummies(data=car_clean, columns=['title_status'])\n",
    "car_encoded = car_encoded.drop(columns={'state', 'country', 'color'})\n",
    "car_encoded = car_encoded.drop(columns={'brand', 'model'})"
   ]
  },
  {
   "cell_type": "code",
   "execution_count": 87,
   "id": "9e21e7f0",
   "metadata": {},
   "outputs": [
    {
     "data": {
      "text/html": [
       "<div>\n",
       "<style scoped>\n",
       "    .dataframe tbody tr th:only-of-type {\n",
       "        vertical-align: middle;\n",
       "    }\n",
       "\n",
       "    .dataframe tbody tr th {\n",
       "        vertical-align: top;\n",
       "    }\n",
       "\n",
       "    .dataframe thead th {\n",
       "        text-align: right;\n",
       "    }\n",
       "</style>\n",
       "<table border=\"1\" class=\"dataframe\">\n",
       "  <thead>\n",
       "    <tr style=\"text-align: right;\">\n",
       "      <th></th>\n",
       "      <th>price</th>\n",
       "      <th>year</th>\n",
       "      <th>mileage</th>\n",
       "      <th>title_status_clean vehicle</th>\n",
       "      <th>title_status_salvage insurance</th>\n",
       "    </tr>\n",
       "  </thead>\n",
       "  <tbody>\n",
       "    <tr>\n",
       "      <th>0</th>\n",
       "      <td>6300</td>\n",
       "      <td>2008</td>\n",
       "      <td>274117.0</td>\n",
       "      <td>1</td>\n",
       "      <td>0</td>\n",
       "    </tr>\n",
       "    <tr>\n",
       "      <th>1</th>\n",
       "      <td>2899</td>\n",
       "      <td>2011</td>\n",
       "      <td>190552.0</td>\n",
       "      <td>1</td>\n",
       "      <td>0</td>\n",
       "    </tr>\n",
       "    <tr>\n",
       "      <th>2</th>\n",
       "      <td>5350</td>\n",
       "      <td>2018</td>\n",
       "      <td>39590.0</td>\n",
       "      <td>1</td>\n",
       "      <td>0</td>\n",
       "    </tr>\n",
       "    <tr>\n",
       "      <th>3</th>\n",
       "      <td>25000</td>\n",
       "      <td>2014</td>\n",
       "      <td>64146.0</td>\n",
       "      <td>1</td>\n",
       "      <td>0</td>\n",
       "    </tr>\n",
       "    <tr>\n",
       "      <th>4</th>\n",
       "      <td>27700</td>\n",
       "      <td>2018</td>\n",
       "      <td>6654.0</td>\n",
       "      <td>1</td>\n",
       "      <td>0</td>\n",
       "    </tr>\n",
       "  </tbody>\n",
       "</table>\n",
       "</div>"
      ],
      "text/plain": [
       "   price  year   mileage  title_status_clean vehicle  \\\n",
       "0   6300  2008  274117.0                           1   \n",
       "1   2899  2011  190552.0                           1   \n",
       "2   5350  2018   39590.0                           1   \n",
       "3  25000  2014   64146.0                           1   \n",
       "4  27700  2018    6654.0                           1   \n",
       "\n",
       "   title_status_salvage insurance  \n",
       "0                               0  \n",
       "1                               0  \n",
       "2                               0  \n",
       "3                               0  \n",
       "4                               0  "
      ]
     },
     "execution_count": 87,
     "metadata": {},
     "output_type": "execute_result"
    }
   ],
   "source": [
    "pd.set_option(\"display.width\",None)\n",
    "car_encoded.head()"
   ]
  },
  {
   "cell_type": "code",
   "execution_count": 88,
   "id": "0c65c529",
   "metadata": {},
   "outputs": [
    {
     "data": {
      "text/html": [
       "<div>\n",
       "<style scoped>\n",
       "    .dataframe tbody tr th:only-of-type {\n",
       "        vertical-align: middle;\n",
       "    }\n",
       "\n",
       "    .dataframe tbody tr th {\n",
       "        vertical-align: top;\n",
       "    }\n",
       "\n",
       "    .dataframe thead th {\n",
       "        text-align: right;\n",
       "    }\n",
       "</style>\n",
       "<table border=\"1\" class=\"dataframe\">\n",
       "  <thead>\n",
       "    <tr style=\"text-align: right;\">\n",
       "      <th></th>\n",
       "      <th>price</th>\n",
       "      <th>year</th>\n",
       "      <th>mileage</th>\n",
       "      <th>title_status_clean vehicle</th>\n",
       "      <th>title_status_salvage insurance</th>\n",
       "    </tr>\n",
       "  </thead>\n",
       "  <tbody>\n",
       "    <tr>\n",
       "      <th>323</th>\n",
       "      <td>0</td>\n",
       "      <td>1997</td>\n",
       "      <td>203297.0</td>\n",
       "      <td>0</td>\n",
       "      <td>1</td>\n",
       "    </tr>\n",
       "    <tr>\n",
       "      <th>2262</th>\n",
       "      <td>15200</td>\n",
       "      <td>2018</td>\n",
       "      <td>12129.0</td>\n",
       "      <td>1</td>\n",
       "      <td>0</td>\n",
       "    </tr>\n",
       "    <tr>\n",
       "      <th>910</th>\n",
       "      <td>26500</td>\n",
       "      <td>2019</td>\n",
       "      <td>28551.0</td>\n",
       "      <td>1</td>\n",
       "      <td>0</td>\n",
       "    </tr>\n",
       "    <tr>\n",
       "      <th>880</th>\n",
       "      <td>10295</td>\n",
       "      <td>2014</td>\n",
       "      <td>105962.0</td>\n",
       "      <td>1</td>\n",
       "      <td>0</td>\n",
       "    </tr>\n",
       "    <tr>\n",
       "      <th>1148</th>\n",
       "      <td>17700</td>\n",
       "      <td>2016</td>\n",
       "      <td>22863.0</td>\n",
       "      <td>1</td>\n",
       "      <td>0</td>\n",
       "    </tr>\n",
       "    <tr>\n",
       "      <th>...</th>\n",
       "      <td>...</td>\n",
       "      <td>...</td>\n",
       "      <td>...</td>\n",
       "      <td>...</td>\n",
       "      <td>...</td>\n",
       "    </tr>\n",
       "    <tr>\n",
       "      <th>2284</th>\n",
       "      <td>600</td>\n",
       "      <td>2012</td>\n",
       "      <td>206142.0</td>\n",
       "      <td>0</td>\n",
       "      <td>1</td>\n",
       "    </tr>\n",
       "    <tr>\n",
       "      <th>1026</th>\n",
       "      <td>24300</td>\n",
       "      <td>2019</td>\n",
       "      <td>34922.0</td>\n",
       "      <td>1</td>\n",
       "      <td>0</td>\n",
       "    </tr>\n",
       "    <tr>\n",
       "      <th>2369</th>\n",
       "      <td>16000</td>\n",
       "      <td>2018</td>\n",
       "      <td>44732.0</td>\n",
       "      <td>1</td>\n",
       "      <td>0</td>\n",
       "    </tr>\n",
       "    <tr>\n",
       "      <th>796</th>\n",
       "      <td>9200</td>\n",
       "      <td>2017</td>\n",
       "      <td>32856.0</td>\n",
       "      <td>1</td>\n",
       "      <td>0</td>\n",
       "    </tr>\n",
       "    <tr>\n",
       "      <th>977</th>\n",
       "      <td>27200</td>\n",
       "      <td>2019</td>\n",
       "      <td>25815.0</td>\n",
       "      <td>1</td>\n",
       "      <td>0</td>\n",
       "    </tr>\n",
       "  </tbody>\n",
       "</table>\n",
       "<p>250 rows × 5 columns</p>\n",
       "</div>"
      ],
      "text/plain": [
       "      price  year   mileage  title_status_clean vehicle  \\\n",
       "323       0  1997  203297.0                           0   \n",
       "2262  15200  2018   12129.0                           1   \n",
       "910   26500  2019   28551.0                           1   \n",
       "880   10295  2014  105962.0                           1   \n",
       "1148  17700  2016   22863.0                           1   \n",
       "...     ...   ...       ...                         ...   \n",
       "2284    600  2012  206142.0                           0   \n",
       "1026  24300  2019   34922.0                           1   \n",
       "2369  16000  2018   44732.0                           1   \n",
       "796    9200  2017   32856.0                           1   \n",
       "977   27200  2019   25815.0                           1   \n",
       "\n",
       "      title_status_salvage insurance  \n",
       "323                                1  \n",
       "2262                               0  \n",
       "910                                0  \n",
       "880                                0  \n",
       "1148                               0  \n",
       "...                              ...  \n",
       "2284                               1  \n",
       "1026                               0  \n",
       "2369                               0  \n",
       "796                                0  \n",
       "977                                0  \n",
       "\n",
       "[250 rows x 5 columns]"
      ]
     },
     "execution_count": 88,
     "metadata": {},
     "output_type": "execute_result"
    }
   ],
   "source": [
    "muestra = car_encoded.sample(frac=0.1, random_state=94)\n",
    "muestra"
   ]
  },
  {
   "cell_type": "code",
   "execution_count": 89,
   "id": "8d9f699d",
   "metadata": {},
   "outputs": [],
   "source": [
    "features = car_encoded.iloc[:, 1:]\n",
    "label = car_encoded['price'] ## preparando datos para el modelo"
   ]
  },
  {
   "cell_type": "code",
   "execution_count": 90,
   "id": "13bdf24f",
   "metadata": {},
   "outputs": [
    {
     "data": {
      "text/plain": [
       "(2499, 4)"
      ]
     },
     "execution_count": 90,
     "metadata": {},
     "output_type": "execute_result"
    }
   ],
   "source": [
    "features.shape"
   ]
  },
  {
   "cell_type": "code",
   "execution_count": 91,
   "id": "236916cc",
   "metadata": {},
   "outputs": [
    {
     "data": {
      "text/plain": [
       "(2499,)"
      ]
     },
     "execution_count": 91,
     "metadata": {},
     "output_type": "execute_result"
    }
   ],
   "source": [
    "label.shape"
   ]
  },
  {
   "cell_type": "code",
   "execution_count": 92,
   "id": "c56a07a0",
   "metadata": {},
   "outputs": [],
   "source": [
    "X_train, X_test, y_train, y_test = train_test_split(features, label, random_state=17)"
   ]
  },
  {
   "cell_type": "code",
   "execution_count": 93,
   "id": "2ead368e",
   "metadata": {},
   "outputs": [
    {
     "data": {
      "text/plain": [
       "LinearRegression()"
      ]
     },
     "execution_count": 93,
     "metadata": {},
     "output_type": "execute_result"
    }
   ],
   "source": [
    "linreg.fit(X=X_train, y=y_train) ### haciendo el modelo"
   ]
  },
  {
   "cell_type": "code",
   "execution_count": 95,
   "id": "f56360ef",
   "metadata": {},
   "outputs": [
    {
     "data": {
      "image/png": "[encoded data removed]",
      "text/plain": [
       "<Figure size 720x360 with 1 Axes>"
      ]
     },
     "metadata": {
      "needs_background": "light"
     },
     "output_type": "display_data"
    },
    {
     "data": {
      "image/png": "[encoded data removed]",
      "text/plain": [
       "<Figure size 720x360 with 1 Axes>"
      ]
     },
     "metadata": {
      "needs_background": "light"
     },
     "output_type": "display_data"
    }
   ],
   "source": [
    "for feature in ('year','mileage'):\n",
    "    plt.figure(figsize=(10,5))\n",
    "    sns.scatterplot(data=car_encoded, x=feature, y=label, palette=\"hls\", legend=False) ## analizando relaciones"
   ]
  },
  {
   "cell_type": "code",
   "execution_count": 96,
   "id": "3ada54e8",
   "metadata": {},
   "outputs": [
    {
     "data": {
      "image/png": "[encoded data removed]",
      "text/plain": [
       "<Figure size 720x360 with 1 Axes>"
      ]
     },
     "metadata": {
      "needs_background": "light"
     },
     "output_type": "display_data"
    },
    {
     "data": {
      "image/png": "[encoded data removed]",
      "text/plain": [
       "<Figure size 720x360 with 1 Axes>"
      ]
     },
     "metadata": {
      "needs_background": "light"
     },
     "output_type": "display_data"
    }
   ],
   "source": [
    "for feature in ('title_status_clean vehicle', 'title_status_salvage insurance'):\n",
    "    plt.figure(figsize=(10,5))\n",
    "    sns.scatterplot(data=car_encoded, x=feature, y=label, palette=\"warm\", legend=False)"
   ]
  },
  {
   "cell_type": "code",
   "execution_count": 147,
   "id": "26ecd53f",
   "metadata": {},
   "outputs": [],
   "source": [
    "marcas = features.columns.values[2:10]\n",
    "for column in marcas:\n",
    "    if column.startswith(\"brand_\",0,6):\n",
    "        plt.figure(figsize=(7,3))\n",
    "        sns.boxplot(data=car_encoded, x=column, y=label, palette=\"warm\", legend=False)"
   ]
  },
  {
   "cell_type": "code",
   "execution_count": 153,
   "id": "288aab24",
   "metadata": {},
   "outputs": [],
   "source": [
    "car_name = pd.read_csv('car_data.csv')"
   ]
  },
  {
   "cell_type": "code",
   "execution_count": 164,
   "id": "8f5028bf",
   "metadata": {},
   "outputs": [],
   "source": [
    "car_name = car_name[['Car_Name', 'Selling_Price']]"
   ]
  },
  {
   "cell_type": "code",
   "execution_count": 184,
   "id": "d1570026",
   "metadata": {},
   "outputs": [
    {
     "data": {
      "image/png": "[encoded data removed]",
      "text/plain": [
       "<Figure size 2160x720 with 1 Axes>"
      ]
     },
     "metadata": {
      "needs_background": "light"
     },
     "output_type": "display_data"
    }
   ],
   "source": [
    "plt.figure(figsize=(30,10))\n",
    "sns.boxplot(x=car_name['Car_Name'], y=car_name['Selling_Price'], data=car_name, palette='cool')\n",
    "sns.despine(offset=10, trim=True)\n",
    "### dispersion de precios de los distintos modelos (no incluiremos en el modelo)"
   ]
  },
  {
   "cell_type": "code",
   "execution_count": 228,
   "id": "d242e5e7",
   "metadata": {},
   "outputs": [
    {
     "data": {
      "text/plain": [
       "0        6300\n",
       "1        2899\n",
       "2        5350\n",
       "3       25000\n",
       "4       27700\n",
       "        ...  \n",
       "2494     7800\n",
       "2495     9200\n",
       "2496     9200\n",
       "2497     9200\n",
       "2498     9200\n",
       "Name: price, Length: 2499, dtype: int64"
      ]
     },
     "execution_count": 228,
     "metadata": {},
     "output_type": "execute_result"
    }
   ],
   "source": [
    "car_data = car_encoded[['year','mileage','title_status_clean vehicle']]\n",
    "label"
   ]
  },
  {
   "cell_type": "code",
   "execution_count": 100,
   "id": "1d9a3ad2",
   "metadata": {},
   "outputs": [],
   "source": [
    "car_data = car_encoded[['year','mileage','title_status_clean vehicle']]"
   ]
  },
  {
   "cell_type": "code",
   "execution_count": 101,
   "id": "52ea11dc",
   "metadata": {},
   "outputs": [],
   "source": [
    "X_train, X_test, y_train, y_test = train_test_split(car_data, label, random_state=17)"
   ]
  },
  {
   "cell_type": "code",
   "execution_count": 102,
   "id": "a93f0f00",
   "metadata": {},
   "outputs": [
    {
     "data": {
      "text/plain": [
       "(1874, 3)"
      ]
     },
     "execution_count": 102,
     "metadata": {},
     "output_type": "execute_result"
    }
   ],
   "source": [
    "X_train.shape"
   ]
  },
  {
   "cell_type": "code",
   "execution_count": 103,
   "id": "46755067",
   "metadata": {},
   "outputs": [
    {
     "data": {
      "text/plain": [
       "(1874,)"
      ]
     },
     "execution_count": 103,
     "metadata": {},
     "output_type": "execute_result"
    }
   ],
   "source": [
    "y_train.shape"
   ]
  },
  {
   "cell_type": "code",
   "execution_count": 104,
   "id": "8724e3b6",
   "metadata": {},
   "outputs": [
    {
     "name": "stdout",
     "output_type": "stream",
     "text": [
      "(625, 3)\n",
      "(625,)\n"
     ]
    }
   ],
   "source": [
    "print(X_test.shape)\n",
    "print(y_test.shape)"
   ]
  },
  {
   "cell_type": "code",
   "execution_count": 105,
   "id": "7f0c0cd3",
   "metadata": {},
   "outputs": [],
   "source": [
    "linreg = LinearRegression()"
   ]
  },
  {
   "cell_type": "code",
   "execution_count": 106,
   "id": "80c2938c",
   "metadata": {},
   "outputs": [
    {
     "data": {
      "text/plain": [
       "LinearRegression()"
      ]
     },
     "execution_count": 106,
     "metadata": {},
     "output_type": "execute_result"
    }
   ],
   "source": [
    "linreg.fit(X=X_train,y=y_train)"
   ]
  },
  {
   "cell_type": "code",
   "execution_count": 108,
   "id": "5c8abb55",
   "metadata": {},
   "outputs": [
    {
     "name": "stdout",
     "output_type": "stream",
     "text": [
      "      year: 745.287638765774\n",
      "   mileage: -0.042506832528444394\n",
      "title_status_clean vehicle: 7199.842439983353\n"
     ]
    }
   ],
   "source": [
    "for i, feature in enumerate(car_data.columns):\n",
    "    print(f'{feature:>10}: {linreg.coef_[i]}') ### analizamos los coeficientes"
   ]
  },
  {
   "cell_type": "code",
   "execution_count": 186,
   "id": "aad12ab6",
   "metadata": {},
   "outputs": [
    {
     "name": "stdout",
     "output_type": "stream",
     "text": [
      " El intercept del modelo es de -1488714.9458958898\n"
     ]
    }
   ],
   "source": [
    "print(f' El intercept del modelo es de {linreg.intercept_}')"
   ]
  },
  {
   "cell_type": "code",
   "execution_count": 185,
   "id": "66b7fa26",
   "metadata": {},
   "outputs": [
    {
     "name": "stdout",
     "output_type": "stream",
     "text": [
      "El coeficiente de year de de 745.287638765774\n",
      "El coeficiente de mileage de de -0.042506832528444394\n",
      "El coeficiente de title_status_clean vehicle de de 7199.842439983353\n"
     ]
    }
   ],
   "source": [
    "for i, feature in enumerate(car_data.columns):\n",
    "    print(f'El coeficiente de {feature} de de {linreg.coef_[i]}') "
   ]
  },
  {
   "cell_type": "code",
   "execution_count": 125,
   "id": "701faf5a",
   "metadata": {},
   "outputs": [
    {
     "data": {
      "text/plain": [
       "2442    28100\n",
       "2366    20100\n",
       "1606    45500\n",
       "1090     2700\n",
       "154      4040\n",
       "Name: price, dtype: int64"
      ]
     },
     "execution_count": 125,
     "metadata": {},
     "output_type": "execute_result"
    }
   ],
   "source": [
    "esperados = y_test\n",
    "esperados[:5]"
   ]
  },
  {
   "cell_type": "code",
   "execution_count": 131,
   "id": "031aee02",
   "metadata": {},
   "outputs": [
    {
     "data": {
      "text/plain": [
       "array([22097.50833908, 21838.3595252 , 18909.05548708, 17385.877469  ,\n",
       "       20317.49222012])"
      ]
     },
     "execution_count": 131,
     "metadata": {},
     "output_type": "execute_result"
    }
   ],
   "source": [
    "prediccion = linreg.predict(X_test)\n",
    "prediccion[:5]"
   ]
  },
  {
   "cell_type": "code",
   "execution_count": 132,
   "id": "381c26dd",
   "metadata": {},
   "outputs": [],
   "source": [
    "df = pd.DataFrame()"
   ]
  },
  {
   "cell_type": "code",
   "execution_count": 133,
   "id": "4e245550",
   "metadata": {},
   "outputs": [],
   "source": [
    "df[\"Esperados\"] = pd.Series(esperados)\n",
    "df[\"Prediccion\"] = pd.Series(prediccion)"
   ]
  },
  {
   "cell_type": "code",
   "execution_count": 142,
   "id": "aa942ef9",
   "metadata": {},
   "outputs": [
    {
     "data": {
      "image/png": "[encoded data removed]",
      "text/plain": [
       "<Figure size 720x720 with 1 Axes>"
      ]
     },
     "metadata": {
      "needs_background": "light"
     },
     "output_type": "display_data"
    }
   ],
   "source": [
    "import matplotlib.pyplot as plt\n",
    "figura = plt.figure(figsize=(10,10))\n",
    "axis = sns.scatterplot(data = df, x=\"Esperados\", y=\"Prediccion\", hue=\"Prediccion\", palette='hls', legend=False)"
   ]
  },
  {
   "cell_type": "code",
   "execution_count": 143,
   "id": "a05fe6e1",
   "metadata": {},
   "outputs": [],
   "source": [
    "from sklearn import metrics"
   ]
  },
  {
   "cell_type": "code",
   "execution_count": 144,
   "id": "e922971c",
   "metadata": {},
   "outputs": [
    {
     "data": {
      "text/plain": [
       "0.23754134563240203"
      ]
     },
     "execution_count": 144,
     "metadata": {},
     "output_type": "execute_result"
    }
   ],
   "source": [
    "metrics.r2_score(esperados, prediccion)"
   ]
  },
  {
   "cell_type": "code",
   "execution_count": null,
   "id": "0d60fa31",
   "metadata": {},
   "outputs": [],
   "source": [
    "### notas: quitar outliers de carros muy costos y\n",
    "###quitar modelos con muchos años y km y altos precios para mejorar el modelo"
   ]
  },
  {
   "cell_type": "code",
   "execution_count": 145,
   "id": "b327d06c",
   "metadata": {},
   "outputs": [
    {
     "data": {
      "text/plain": [
       "108715707.03395075"
      ]
     },
     "execution_count": 145,
     "metadata": {},
     "output_type": "execute_result"
    }
   ],
   "source": [
    "metrics.mean_squared_error(esperados, prediccion) ## extraordinariamente alto"
   ]
  }
 ],
 "metadata": {
  "kernelspec": {
   "display_name": "Python 3 (ipykernel)",
   "language": "python",
   "name": "python3"
  },
  "language_info": {
   "codemirror_mode": {
    "name": "ipython",
    "version": 3
   },
   "file_extension": ".py",
   "mimetype": "text/x-python",
   "name": "python",
   "nbconvert_exporter": "python",
   "pygments_lexer": "ipython3",
   "version": "3.9.7"
  }
 },
 "nbformat": 4,
 "nbformat_minor": 5
}
